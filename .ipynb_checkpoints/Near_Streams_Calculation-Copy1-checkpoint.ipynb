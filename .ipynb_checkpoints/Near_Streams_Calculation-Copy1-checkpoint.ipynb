{
 "cells": [
  {
   "cell_type": "code",
   "execution_count": null,
   "metadata": {},
   "outputs": [],
   "source": [
    "import pandas as pd\n",
    "import arcpy\n",
    "import numpy as np\n",
    "from numpy import mean\n",
    "from numpy import std\n",
    "import os\n",
    "from arcpy import management\n",
    "# from arcgis.gis import GIS\n",
    "from time import time\n",
    "arcpy.CheckOutExtension('Spatial')\n",
    "arcpy.env.overwriteOutput = True\n",
    "\n",
    "workspace = r\"P:\\Temp\\McAvoy\\ML_DataCollection\\StreamsFix\\\\\"\n",
    "arcpy.env.workspace = workspace\n"
   ]
  },
  {
   "cell_type": "code",
   "execution_count": null,
   "metadata": {},
   "outputs": [],
   "source": [
    "#source for Bing building footprints for Indiana (attrubuted with open street maps data)\n",
    "building_footprints = r\"P:\\Temp\\McAvoy\\ML_DataCollection\\Indiana_ML\\Indiana_ML.gdb\\BuildingFootprints_700\"\n",
    "\n",
    "#set source for streams data\n",
    "streams = r\"P:\\Temp\\McAvoy\\ML_DataCollection\\Indiana_ML\\Indiana_50c_streams_edited.shp\"\n",
    "\n",
    "#set source for subwatersheds\n",
    "all_subwatersheds = r\"P:\\Temp\\McAvoy\\ML_DataCollection\\StreamsFix\\June_6_HUCS.shp\""
   ]
  },
  {
   "cell_type": "code",
   "execution_count": null,
   "metadata": {},
   "outputs": [],
   "source": []
  },
  {
   "cell_type": "code",
   "execution_count": null,
   "metadata": {},
   "outputs": [],
   "source": [
    "#get distance from residential buildings to streams\n",
    "#project buildings and streams so they are in the same GCS\n",
    "sr = arcpy.SpatialReference(4269)\n",
    "\n",
    "arcpy.Project_management(streams, workspace + \"streams_project.shp\", sr)\n",
    "\n",
    "\n",
    "b_copy = arcpy.CopyFeatures_management(building_footprints, workspace + \"buildings_copy\")\n",
    "\n",
    "\n",
    "arcpy.Project_management(b_copy, workspace+\"buildings_project.shp\", sr)\n",
    "\n"
   ]
  },
  {
   "cell_type": "code",
   "execution_count": null,
   "metadata": {},
   "outputs": [],
   "source": [
    "#use near tool to get distance to steams\n",
    "arcpy.Near_analysis(workspace+\"buildings_project.shp\",\n",
    "                    workspace + \"streams_project.shp\",\n",
    "                    method=\"GEODESIC\")\n",
    "\n"
   ]
  },
  {
   "cell_type": "code",
   "execution_count": null,
   "metadata": {},
   "outputs": [],
   "source": [
    "subwatershed_list = [] \n",
    "dist_to_stream_avg_list = []\n",
    "dist_to_stream_stdev_list = []\n"
   ]
  },
  {
   "cell_type": "code",
   "execution_count": null,
   "metadata": {},
   "outputs": [],
   "source": [
    "#search cursor through each row of county subwatersheds file\n",
    "with arcpy.da.SearchCursor(all_subwatersheds, ['HUC12','AREA', 'PERIMETER']) as cursor:\n",
    "\n",
    "    for row in cursor:\n",
    "        subwatershed_number = row[0]\n",
    "        \n",
    "        subwatershed_list.append(subwatershed_number)\n",
    "        \n",
    "        print(subwatershed_number, \" is the subwatershed to be worked on\")\n",
    "\n",
    "        #select subwatershed from shapefile with all of them\n",
    "        s = arcpy.SelectLayerByAttribute_management(all_subwatersheds, \"NEW_SELECTION\", \n",
    "                                                \"HUC12 = '{}'\".format(subwatershed_number))\n",
    "        \n",
    "        arcpy.CopyFeatures_management(s, \"s_lyr.shp\")\n",
    "        subwatershed_selection1 = workspace + 's_lyr.shp'\n",
    "        \n",
    "        arcpy.Clip_analysis(workspace+\"buildings_project.shp\", \n",
    "                            subwatershed_selection1,\n",
    "                            f\"{subwatershed_number}_buildings.shp\")\n",
    "\n",
    "        #get all the distances in to the streams\n",
    "        dist_to_stream_list = []\n",
    "        with arcpy.da.SearchCursor(workspace+f\"{subwatershed_number}_buildings.shp\", [\"NEAR_DIST\"]) as distCursor: \n",
    "            for dist in distCursor:  \n",
    "                dist_to_stream = dist[0]  \n",
    "                dist_to_stream_list.append(dist_to_stream)  \n",
    "\n",
    "        dist_to_stream_avg = mean(dist_to_stream_list)\n",
    "\n",
    "        dist_to_stream_stdev = std(dist_to_stream_list)\n",
    "\n",
    "        # print(dist_to_stream_avg)\n",
    "        # print(dist_to_stream_stdev)\n",
    "\n",
    "        dist_to_stream_avg_list.append(dist_to_stream_avg)\n",
    "        dist_to_stream_stdev_list.append(dist_to_stream_stdev)"
   ]
  },
  {
   "cell_type": "code",
   "execution_count": null,
   "metadata": {},
   "outputs": [],
   "source": [
    "st = time()\n",
    "outputs = {'subwatershed': subwatershed_list,\n",
    "           'dist_to_stream_avg (m)': dist_to_stream_avg_list,\n",
    "           'dist_to_stream_stdev (m)': dist_to_stream_stdev_list}\n",
    "           \n",
    "outputs_df = pd.DataFrame(outputs, columns = ['subwatershed',\n",
    "                                              'dist_to_stream_avg (m)',\n",
    "                                              'dist_to_stream_stdev (m)'])\n",
    "                                              \n",
    "                                              \n",
    "print(outputs_df)\n",
    "\n",
    "outputs_df.to_excel(workspace+ '700_stream_dist.xlsx')\n",
    "print(round(((time()-st)/60), 2) , 'minutes to process.')                                              "
   ]
  },
  {
   "cell_type": "code",
   "execution_count": null,
   "metadata": {},
   "outputs": [],
   "source": [
    "print(dist_to_stream_avg)\n",
    "print(dist_to_stream_stdev)"
   ]
  }
 ],
 "metadata": {
  "kernelspec": {
   "display_name": "Python 3",
   "language": "python",
   "name": "python3"
  },
  "language_info": {
   "codemirror_mode": {
    "name": "ipython",
    "version": 3
   },
   "file_extension": ".py",
   "mimetype": "text/x-python",
   "name": "python",
   "nbconvert_exporter": "python",
   "pygments_lexer": "ipython3",
   "version": "3.6.9"
  }
 },
 "nbformat": 4,
 "nbformat_minor": 2
}
